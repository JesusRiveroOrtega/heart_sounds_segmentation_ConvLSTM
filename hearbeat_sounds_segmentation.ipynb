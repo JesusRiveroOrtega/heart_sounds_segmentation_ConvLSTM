{
  "nbformat": 4,
  "nbformat_minor": 0,
  "metadata": {
    "colab": {
      "name": "hearbeat_sounds_segmentation.ipynb",
      "version": "0.3.2",
      "provenance": [],
      "collapsed_sections": [],
      "include_colab_link": true
    },
    "kernelspec": {
      "name": "python3",
      "display_name": "Python 3"
    },
    "accelerator": "GPU"
  },
  "cells": [
    {
      "cell_type": "markdown",
      "metadata": {
        "id": "view-in-github",
        "colab_type": "text"
      },
      "source": [
        "<a href=\"https://colab.research.google.com/github/JesusRiveroOrtega/heart_sounds_segmentation_ConvLSTM/blob/master/hearbeat_sounds_segmentation.ipynb\" target=\"_parent\"><img src=\"https://colab.research.google.com/assets/colab-badge.svg\" alt=\"Open In Colab\"/></a>"
      ]
    },
    {
      "cell_type": "code",
      "metadata": {
        "id": "uRKRsGkK_TuT",
        "colab_type": "code",
        "outputId": "e9f03a8d-dc25-459d-cd05-09334ab5f9ba",
        "colab": {
          "base_uri": "https://localhost:8080/",
          "height": 539
        }
      },
      "source": [
        "from scipy.io import wavfile as wf\n",
        "import numpy as np\n",
        "import random\n",
        "from matplotlib import pyplot as plt\n",
        "import csv\n",
        "from scipy import signal\n",
        "from google.colab import drive\n",
        "drive.mount('/content/drive')"
      ],
      "execution_count": 1,
      "outputs": [
        {
          "output_type": "error",
          "ename": "KeyboardInterrupt",
          "evalue": "ignored",
          "traceback": [
            "\u001b[0;31m---------------------------------------------------------------------------\u001b[0m",
            "\u001b[0;31mKeyboardInterrupt\u001b[0m                         Traceback (most recent call last)",
            "\u001b[0;32m/usr/local/lib/python3.6/dist-packages/ipykernel/kernelbase.py\u001b[0m in \u001b[0;36m_input_request\u001b[0;34m(self, prompt, ident, parent, password)\u001b[0m\n\u001b[1;32m    729\u001b[0m             \u001b[0;32mtry\u001b[0m\u001b[0;34m:\u001b[0m\u001b[0;34m\u001b[0m\u001b[0;34m\u001b[0m\u001b[0m\n\u001b[0;32m--> 730\u001b[0;31m                 \u001b[0mident\u001b[0m\u001b[0;34m,\u001b[0m \u001b[0mreply\u001b[0m \u001b[0;34m=\u001b[0m \u001b[0mself\u001b[0m\u001b[0;34m.\u001b[0m\u001b[0msession\u001b[0m\u001b[0;34m.\u001b[0m\u001b[0mrecv\u001b[0m\u001b[0;34m(\u001b[0m\u001b[0mself\u001b[0m\u001b[0;34m.\u001b[0m\u001b[0mstdin_socket\u001b[0m\u001b[0;34m,\u001b[0m \u001b[0;36m0\u001b[0m\u001b[0;34m)\u001b[0m\u001b[0;34m\u001b[0m\u001b[0;34m\u001b[0m\u001b[0m\n\u001b[0m\u001b[1;32m    731\u001b[0m             \u001b[0;32mexcept\u001b[0m \u001b[0mException\u001b[0m\u001b[0;34m:\u001b[0m\u001b[0;34m\u001b[0m\u001b[0;34m\u001b[0m\u001b[0m\n",
            "\u001b[0;32m/usr/local/lib/python3.6/dist-packages/jupyter_client/session.py\u001b[0m in \u001b[0;36mrecv\u001b[0;34m(self, socket, mode, content, copy)\u001b[0m\n\u001b[1;32m    802\u001b[0m         \u001b[0;32mtry\u001b[0m\u001b[0;34m:\u001b[0m\u001b[0;34m\u001b[0m\u001b[0;34m\u001b[0m\u001b[0m\n\u001b[0;32m--> 803\u001b[0;31m             \u001b[0mmsg_list\u001b[0m \u001b[0;34m=\u001b[0m \u001b[0msocket\u001b[0m\u001b[0;34m.\u001b[0m\u001b[0mrecv_multipart\u001b[0m\u001b[0;34m(\u001b[0m\u001b[0mmode\u001b[0m\u001b[0;34m,\u001b[0m \u001b[0mcopy\u001b[0m\u001b[0;34m=\u001b[0m\u001b[0mcopy\u001b[0m\u001b[0;34m)\u001b[0m\u001b[0;34m\u001b[0m\u001b[0;34m\u001b[0m\u001b[0m\n\u001b[0m\u001b[1;32m    804\u001b[0m         \u001b[0;32mexcept\u001b[0m \u001b[0mzmq\u001b[0m\u001b[0;34m.\u001b[0m\u001b[0mZMQError\u001b[0m \u001b[0;32mas\u001b[0m \u001b[0me\u001b[0m\u001b[0;34m:\u001b[0m\u001b[0;34m\u001b[0m\u001b[0;34m\u001b[0m\u001b[0m\n",
            "\u001b[0;32m/usr/local/lib/python3.6/dist-packages/zmq/sugar/socket.py\u001b[0m in \u001b[0;36mrecv_multipart\u001b[0;34m(self, flags, copy, track)\u001b[0m\n\u001b[1;32m    465\u001b[0m         \"\"\"\n\u001b[0;32m--> 466\u001b[0;31m         \u001b[0mparts\u001b[0m \u001b[0;34m=\u001b[0m \u001b[0;34m[\u001b[0m\u001b[0mself\u001b[0m\u001b[0;34m.\u001b[0m\u001b[0mrecv\u001b[0m\u001b[0;34m(\u001b[0m\u001b[0mflags\u001b[0m\u001b[0;34m,\u001b[0m \u001b[0mcopy\u001b[0m\u001b[0;34m=\u001b[0m\u001b[0mcopy\u001b[0m\u001b[0;34m,\u001b[0m \u001b[0mtrack\u001b[0m\u001b[0;34m=\u001b[0m\u001b[0mtrack\u001b[0m\u001b[0;34m)\u001b[0m\u001b[0;34m]\u001b[0m\u001b[0;34m\u001b[0m\u001b[0;34m\u001b[0m\u001b[0m\n\u001b[0m\u001b[1;32m    467\u001b[0m         \u001b[0;31m# have first part already, only loop while more to receive\u001b[0m\u001b[0;34m\u001b[0m\u001b[0;34m\u001b[0m\u001b[0;34m\u001b[0m\u001b[0m\n",
            "\u001b[0;32mzmq/backend/cython/socket.pyx\u001b[0m in \u001b[0;36mzmq.backend.cython.socket.Socket.recv\u001b[0;34m()\u001b[0m\n",
            "\u001b[0;32mzmq/backend/cython/socket.pyx\u001b[0m in \u001b[0;36mzmq.backend.cython.socket.Socket.recv\u001b[0;34m()\u001b[0m\n",
            "\u001b[0;32mzmq/backend/cython/socket.pyx\u001b[0m in \u001b[0;36mzmq.backend.cython.socket._recv_copy\u001b[0;34m()\u001b[0m\n",
            "\u001b[0;32m/usr/local/lib/python3.6/dist-packages/zmq/backend/cython/checkrc.pxd\u001b[0m in \u001b[0;36mzmq.backend.cython.checkrc._check_rc\u001b[0;34m()\u001b[0m\n",
            "\u001b[0;31mKeyboardInterrupt\u001b[0m: ",
            "\nDuring handling of the above exception, another exception occurred:\n",
            "\u001b[0;31mKeyboardInterrupt\u001b[0m                         Traceback (most recent call last)",
            "\u001b[0;32m<ipython-input-1-7dd230b80010>\u001b[0m in \u001b[0;36m<module>\u001b[0;34m()\u001b[0m\n\u001b[1;32m      6\u001b[0m \u001b[0;32mfrom\u001b[0m \u001b[0mscipy\u001b[0m \u001b[0;32mimport\u001b[0m \u001b[0msignal\u001b[0m\u001b[0;34m\u001b[0m\u001b[0;34m\u001b[0m\u001b[0m\n\u001b[1;32m      7\u001b[0m \u001b[0;32mfrom\u001b[0m \u001b[0mgoogle\u001b[0m\u001b[0;34m.\u001b[0m\u001b[0mcolab\u001b[0m \u001b[0;32mimport\u001b[0m \u001b[0mdrive\u001b[0m\u001b[0;34m\u001b[0m\u001b[0;34m\u001b[0m\u001b[0m\n\u001b[0;32m----> 8\u001b[0;31m \u001b[0mdrive\u001b[0m\u001b[0;34m.\u001b[0m\u001b[0mmount\u001b[0m\u001b[0;34m(\u001b[0m\u001b[0;34m'/content/drive'\u001b[0m\u001b[0;34m)\u001b[0m\u001b[0;34m\u001b[0m\u001b[0;34m\u001b[0m\u001b[0m\n\u001b[0m",
            "\u001b[0;32m/usr/local/lib/python3.6/dist-packages/google/colab/drive.py\u001b[0m in \u001b[0;36mmount\u001b[0;34m(mountpoint, force_remount, timeout_ms)\u001b[0m\n\u001b[1;32m    202\u001b[0m       \u001b[0;31m# Not already authorized, so do the authorization dance.\u001b[0m\u001b[0;34m\u001b[0m\u001b[0;34m\u001b[0m\u001b[0;34m\u001b[0m\u001b[0m\n\u001b[1;32m    203\u001b[0m       \u001b[0mauth_prompt\u001b[0m \u001b[0;34m=\u001b[0m \u001b[0md\u001b[0m\u001b[0;34m.\u001b[0m\u001b[0mmatch\u001b[0m\u001b[0;34m.\u001b[0m\u001b[0mgroup\u001b[0m\u001b[0;34m(\u001b[0m\u001b[0;36m1\u001b[0m\u001b[0;34m)\u001b[0m \u001b[0;34m+\u001b[0m \u001b[0;34m'\\n\\nEnter your authorization code:\\n'\u001b[0m\u001b[0;34m\u001b[0m\u001b[0;34m\u001b[0m\u001b[0m\n\u001b[0;32m--> 204\u001b[0;31m       \u001b[0md\u001b[0m\u001b[0;34m.\u001b[0m\u001b[0msend\u001b[0m\u001b[0;34m(\u001b[0m\u001b[0m_getpass\u001b[0m\u001b[0;34m.\u001b[0m\u001b[0mgetpass\u001b[0m\u001b[0;34m(\u001b[0m\u001b[0mauth_prompt\u001b[0m\u001b[0;34m)\u001b[0m \u001b[0;34m+\u001b[0m \u001b[0;34m'\\n'\u001b[0m\u001b[0;34m)\u001b[0m\u001b[0;34m\u001b[0m\u001b[0;34m\u001b[0m\u001b[0m\n\u001b[0m\u001b[1;32m    205\u001b[0m   \u001b[0md\u001b[0m\u001b[0;34m.\u001b[0m\u001b[0msendcontrol\u001b[0m\u001b[0;34m(\u001b[0m\u001b[0;34m'z'\u001b[0m\u001b[0;34m)\u001b[0m\u001b[0;34m\u001b[0m\u001b[0;34m\u001b[0m\u001b[0m\n\u001b[1;32m    206\u001b[0m   \u001b[0md\u001b[0m\u001b[0;34m.\u001b[0m\u001b[0mexpect\u001b[0m\u001b[0;34m(\u001b[0m\u001b[0;34mu'Stopped'\u001b[0m\u001b[0;34m)\u001b[0m\u001b[0;34m\u001b[0m\u001b[0;34m\u001b[0m\u001b[0m\n",
            "\u001b[0;32m/usr/local/lib/python3.6/dist-packages/ipykernel/kernelbase.py\u001b[0m in \u001b[0;36mgetpass\u001b[0;34m(self, prompt, stream)\u001b[0m\n\u001b[1;32m    686\u001b[0m             \u001b[0mself\u001b[0m\u001b[0;34m.\u001b[0m\u001b[0m_parent_ident\u001b[0m\u001b[0;34m,\u001b[0m\u001b[0;34m\u001b[0m\u001b[0;34m\u001b[0m\u001b[0m\n\u001b[1;32m    687\u001b[0m             \u001b[0mself\u001b[0m\u001b[0;34m.\u001b[0m\u001b[0m_parent_header\u001b[0m\u001b[0;34m,\u001b[0m\u001b[0;34m\u001b[0m\u001b[0;34m\u001b[0m\u001b[0m\n\u001b[0;32m--> 688\u001b[0;31m             \u001b[0mpassword\u001b[0m\u001b[0;34m=\u001b[0m\u001b[0;32mTrue\u001b[0m\u001b[0;34m,\u001b[0m\u001b[0;34m\u001b[0m\u001b[0;34m\u001b[0m\u001b[0m\n\u001b[0m\u001b[1;32m    689\u001b[0m         )\n\u001b[1;32m    690\u001b[0m \u001b[0;34m\u001b[0m\u001b[0m\n",
            "\u001b[0;32m/usr/local/lib/python3.6/dist-packages/ipykernel/kernelbase.py\u001b[0m in \u001b[0;36m_input_request\u001b[0;34m(self, prompt, ident, parent, password)\u001b[0m\n\u001b[1;32m    733\u001b[0m             \u001b[0;32mexcept\u001b[0m \u001b[0mKeyboardInterrupt\u001b[0m\u001b[0;34m:\u001b[0m\u001b[0;34m\u001b[0m\u001b[0;34m\u001b[0m\u001b[0m\n\u001b[1;32m    734\u001b[0m                 \u001b[0;31m# re-raise KeyboardInterrupt, to truncate traceback\u001b[0m\u001b[0;34m\u001b[0m\u001b[0;34m\u001b[0m\u001b[0;34m\u001b[0m\u001b[0m\n\u001b[0;32m--> 735\u001b[0;31m                 \u001b[0;32mraise\u001b[0m \u001b[0mKeyboardInterrupt\u001b[0m\u001b[0;34m\u001b[0m\u001b[0;34m\u001b[0m\u001b[0m\n\u001b[0m\u001b[1;32m    736\u001b[0m             \u001b[0;32melse\u001b[0m\u001b[0;34m:\u001b[0m\u001b[0;34m\u001b[0m\u001b[0;34m\u001b[0m\u001b[0m\n\u001b[1;32m    737\u001b[0m                 \u001b[0;32mbreak\u001b[0m\u001b[0;34m\u001b[0m\u001b[0;34m\u001b[0m\u001b[0m\n",
            "\u001b[0;31mKeyboardInterrupt\u001b[0m: "
          ]
        }
      ]
    },
    {
      "cell_type": "code",
      "metadata": {
        "id": "ecZ-CS93J35v",
        "colab_type": "code",
        "outputId": "a1ae249f-1a4e-4060-f80e-10e29b70c0d0",
        "colab": {
          "base_uri": "https://localhost:8080/",
          "height": 52
        }
      },
      "source": [
        "!cd 'drive/My Drive/kaggle/heartbeat_sounds' && ls"
      ],
      "execution_count": 0,
      "outputs": [
        {
          "output_type": "stream",
          "text": [
            "heartbeat-sounds.zip  set_a.csv\t\tset_a_timing.gsheet  set_b.csv\n",
            "set_a\t\t      set_a_timing.csv\tset_b\n"
          ],
          "name": "stdout"
        }
      ]
    },
    {
      "cell_type": "code",
      "metadata": {
        "id": "uOLOGNaaPqch",
        "colab_type": "code",
        "colab": {}
      },
      "source": [
        "a_name = ''\n",
        "p_name = ''\n",
        "files = 0\n",
        "target = [[[],[]]]\n",
        "k = 0\n",
        "AUDIO = np.zeros((21, 396900))\n",
        "TARGET = np.zeros((3, 21, 396900))\n",
        "#Data loading process\n",
        "#The dataset is composed by several audio files, the file set_a_timing.csv contains the name of the audio files\n",
        "#The following process takes the name in the .csv file and load the audio file to append it to a list with the rest of audios\n",
        "\n",
        "with open('drive/My Drive/kaggle/heartbeat_sounds/set_a_timing.csv') as csv_file:  \n",
        "    csv_reader = csv.reader(csv_file, delimiter=',') #Function to read .csv files\n",
        "    line_count = 0    \n",
        "    for row in csv_reader: #this for loop takes each row of the .csv file\n",
        "      if line_count > 0:\n",
        "        a_name = row[0].split('/')[1] #The first column of the .csv file contains the names, to\n",
        "        if a_name == p_name:\n",
        "          target[k][0].append(row[2])\n",
        "          target[k][1].append(row[3])\n",
        "          if row[2] == 'S1':\n",
        "            TARGET[0, k-1, int(row[3])] = 1\n",
        "          if row[2] == 'S2':\n",
        "            TARGET[1, k-1, int(row[3])] = 1\n",
        "        else:\n",
        "          target.append([[row[2]],[row[3]]])\n",
        "          \n",
        "          fs, data = wf.read('drive/My Drive/kaggle/heartbeat_sounds/set_a/'+a_name)   \n",
        "          fc = 410\n",
        "          \n",
        "          b, a = signal.butter(4, fc/(fs/2), 'low', analog=True)\n",
        "          data = signal.filtfilt(b, a, data)\n",
        "          data = signal.filtfilt(b, a, data)\n",
        "          mean = np.mean(data)\n",
        "          data = data-mean\n",
        "          std = np.std(data)\n",
        "          data/=std\n",
        "          if np.shape(data)[0] < 396900:  \n",
        "            \n",
        "            tmp_data = np.pad(data, (0,int(396900 - np.shape(data)[0])), 'constant', constant_values=(0, 0))\n",
        "            \n",
        "            AUDIO[k, :] = np.interp(tmp_data, (tmp_data.min(), tmp_data.max()), (-1, +1))           \n",
        "          else:      \n",
        "            \n",
        "            AUDIO[k, :] = np.interp(data, (data.min(), data.max()), (-1, +1))\n",
        "          \n",
        "          k += 1\n",
        "        \n",
        "      \n",
        "      else:\n",
        "        pass\n",
        "      p_name = a_name      \n",
        "      line_count+=1\n",
        "AUDIO = np.interp(AUDIO, (AUDIO.min(), AUDIO.max()), (-1, +1))\n",
        "#AUDIO_der = np.gradient(AUDIO, axis=1)\n",
        "#AUDIO = np.concatenate((AUDIO, AUDIO))\n",
        "target = target[1:]\n"
      ],
      "execution_count": 0,
      "outputs": []
    },
    {
      "cell_type": "code",
      "metadata": {
        "id": "FISSIQZlu3ca",
        "colab_type": "code",
        "colab": {}
      },
      "source": [
        "AUDIO_r = np.ravel(AUDIO)\n",
        "DATA_S1 = []\n",
        "DATA_S2 = []\n",
        "DATA_ZE = []\n",
        "TARG_S1 = []\n",
        "TARG_S2 = []\n",
        "TARG_ZE = []\n",
        "TARGET_r = np.reshape(TARGET, (3, -1))\n",
        "tg = TARGET_r[0,:]+TARGET_r[1,:]\n",
        "win = 0\n",
        "width = 4000\n",
        "overlap = 500\n",
        "while win < AUDIO_r.shape[0] - width:\n",
        "  \n",
        "  if (1 in TARGET_r[0, win:win+width]) and (0 in TARGET_r[1, win:win+width]):\n",
        "    TARG_S1.append(np.array([1, 0, 0]))\n",
        "    DATA_S1.append(AUDIO_r[win:win+width])\n",
        "  if (0 in TARGET_r[0, win:win+width]) and (1 in TARGET_r[1, win:win+width]):\n",
        "    TARG_S2.append(np.array([0, 1, 0]))\n",
        "    DATA_S2.append(AUDIO_r[win:win+width])\n",
        "  else:\n",
        "    TARG_ZE.append(np.array([0, 0, 1]))\n",
        "    DATA_ZE.append(AUDIO_r[win:win+width])\n",
        "  win += overlap\n",
        "  "
      ],
      "execution_count": 0,
      "outputs": []
    },
    {
      "cell_type": "code",
      "metadata": {
        "id": "RW50a46Yl40w",
        "colab_type": "code",
        "colab": {}
      },
      "source": [
        "\n",
        "S1 = np.hstack((np.array(DATA_S1), np.array(TARG_S1)))\n",
        "S2 = np.hstack((np.array(DATA_S2), np.array(TARG_S2)))\n",
        "ZE = np.hstack((np.array(DATA_ZE), np.array(TARG_ZE)))\n",
        "for i in range(0, 20):\n",
        "  S1 = S1[np.random.permutation(range(0, S1.shape[0])), :]\n",
        "  S2 = S2[np.random.permutation(range(0, S2.shape[0])), :]\n",
        "  ZE = ZE[np.random.permutation(range(0, ZE.shape[0])), :]\n",
        "\n",
        "s1 = S1.shape[0]\n",
        "s2 = S2.shape[0]\n",
        "ze = ZE.shape[0]\n",
        "\n",
        "if s1 > s2:\n",
        "  S1_DAT = S1[0:s2,:]\n",
        "  S2_DAT = S2\n",
        "  ZE_DAT = ZE[0:s2,:]\n",
        "if s2 > s1:\n",
        "  S2_DAT = S2[0:s1,:]\n",
        "  S1_DAT = S1\n",
        "  ZE_DAT = ZE[0:s1,:]\n",
        "  \n",
        "TRAINING_SET_PREV = np.vstack((S1_DAT[0:int(S1_DAT.shape[0] * 0.8), :], S2_DAT[0:int(S2_DAT.shape[0] * 0.8), :], ZE_DAT[0:int(ZE_DAT.shape[0] * 0.8), :]))  \n",
        "TESTING_SET_PREV = np.vstack((S1_DAT[int(S1_DAT.shape[0] * 0.8):, :], S2_DAT[int(S2_DAT.shape[0] * 0.8):, :], ZE_DAT[int(ZE_DAT.shape[0] * 0.8):, :]))\n",
        "\n",
        "\n",
        "TRAINING_DATA = TRAINING_SET_PREV[:, 0:TRAINING_SET_PREV.shape[1] - 3]\n",
        "TRAINING_TARG = TRAINING_SET_PREV[:, TRAINING_SET_PREV.shape[1] - 3:]\n",
        "\n",
        "TESTING_DATA = TRAINING_SET_PREV[:, 0:TRAINING_SET_PREV.shape[1] - 3]\n",
        "TESTING_TARG = TRAINING_SET_PREV[:, TRAINING_SET_PREV.shape[1] - 3:]\n",
        "\n",
        "#for i in range(0, 20):\n",
        "  #TESTING_DATA = TESTING_DATA[np.random.permutation(range(0, TESTING_DATA.shape[0])), :]\n",
        "  #TESTING_TARG = TESTING_TARG[np.random.permutation(range(0, TESTING_TARG.shape[0])), :]"
      ],
      "execution_count": 0,
      "outputs": []
    },
    {
      "cell_type": "code",
      "metadata": {
        "id": "8hxlFPEKl-eT",
        "colab_type": "code",
        "outputId": "beff19df-aad8-4d5b-c1bb-5afccc29b892",
        "colab": {
          "base_uri": "https://localhost:8080/",
          "height": 34
        }
      },
      "source": [
        "print(TRAINING_DATA.shape)\n",
        "TRAINING_DATA = np.expand_dims(TRAINING_DATA, axis=2)\n",
        "TESTING_DATA = np.expand_dims(TESTING_DATA, axis=2)\n",
        "TRAINING_DATA = np.concatenate((TRAINING_DATA, np.gradient(TRAINING_DATA, axis=1)), axis=2)\n",
        "TESTING_DATA = np.concatenate((TESTING_DATA, np.gradient(TESTING_DATA, axis=1)), axis=2)"
      ],
      "execution_count": 0,
      "outputs": [
        {
          "output_type": "stream",
          "text": [
            "(3339, 4000)\n"
          ],
          "name": "stdout"
        }
      ]
    },
    {
      "cell_type": "code",
      "metadata": {
        "id": "yR7VUB7UY2fL",
        "colab_type": "code",
        "outputId": "8ef9274b-8034-438d-93a9-478423dc760f",
        "colab": {
          "base_uri": "https://localhost:8080/",
          "height": 34
        }
      },
      "source": [
        "# convlstm model\n",
        "from numpy import mean\n",
        "from numpy import std\n",
        "from numpy import dstack\n",
        "from pandas import read_csv\n",
        "from keras.models import Sequential\n",
        "from keras.layers import Dense\n",
        "from keras.layers import Flatten\n",
        "from keras.layers import Dropout\n",
        "from keras.layers import LSTM\n",
        "from keras.layers import TimeDistributed\n",
        "from keras.layers import ConvLSTM2D\n",
        "from keras.utils import to_categorical\n",
        "from matplotlib import pyplot\n",
        "import tensorflow as tf"
      ],
      "execution_count": 0,
      "outputs": [
        {
          "output_type": "stream",
          "text": [
            "Using TensorFlow backend.\n"
          ],
          "name": "stderr"
        }
      ]
    },
    {
      "cell_type": "code",
      "metadata": {
        "id": "B3i3qBSIZe-E",
        "colab_type": "code",
        "colab": {}
      },
      "source": [
        "# fit and evaluate a model\n",
        "def evaluate_model(trainX, trainy, testX, testy):\n",
        "  # define model\n",
        "  verbose, epochs, batch_size = 0, 400, 64\n",
        "  n_timesteps, n_features, n_outputs = trainX.shape[1], 2, trainy.shape[1]\n",
        "  # reshape into subsequences (samples, time steps, rows, cols, channels)\n",
        "  n_steps, n_length = 50, 64\n",
        "  trainX = trainX.reshape((trainX.shape[0], n_steps, 1, -1, n_features))\n",
        "  testX = testX.reshape((testX.shape[0], n_steps, 1, -1, n_features))\n",
        "  print(testX.shape[1:])\n",
        "  # define model\n",
        "  model = Sequential()\n",
        "  model.add(ConvLSTM2D(filters=32, kernel_size=(1,3), activation='relu', input_shape = testX.shape[1:], return_sequences = True)) \n",
        "  model.add(ConvLSTM2D(filters=64, kernel_size=(1,3), activation='relu', return_sequences = True))\n",
        "  model.add(ConvLSTM2D(filters=128, kernel_size=(1,3), activation='relu', return_sequences = False))\n",
        "  model.add(Dropout(0.5))\n",
        "  model.add(Flatten())  \n",
        "  model.add(Dense(300, activation='relu'))     \n",
        "  model.add(Dense(n_outputs, activation='softmax'))\n",
        "  model.compile(loss='categorical_crossentropy', optimizer='adam', metrics=['categorical_accuracy'])\n",
        "  # fit network\n",
        "  model.fit(trainX, trainy, epochs=epochs, batch_size=batch_size, verbose=verbose)\n",
        "  # evaluate model\n",
        "  _, accuracy = model.evaluate(testX, testy, batch_size=batch_size, verbose=0)\n",
        "  return accuracy, model\n",
        " \n",
        "# summarize scores\n",
        "def summarize_results(scores):\n",
        "\tprint(scores)\n",
        "\tm, s = mean(scores), std(scores)\n",
        "\tprint('Accuracy: %.3f%% (+/-%.3f)' % (m, s))\n",
        " \n",
        "# run an experiment\n",
        "def run_experiment(repeats=2):\t\n",
        "\t# repeat experiment\n",
        "  scores = list()\n",
        "  for r in range(repeats):\n",
        "    score, model = evaluate_model(TRAINING_DATA, TRAINING_TARG, TESTING_DATA, TESTING_TARG)\n",
        "    name = '_HBS_V2_2_acc_'\n",
        "    model.save_weights('drive/My Drive/weights'+ name + str(score*100) +'.h5')\n",
        "    with open('drive/My Drive/model' + name + str(score*100) +'.json', 'w') as f:\n",
        "      f.write(model.to_json())\n",
        "\n",
        "    score = score * 100.0\n",
        "    print('>#%d: %.3f' % (r+1, score))\n",
        "    scores.append(score)\n",
        "    # summarize results\n",
        "    summarize_results(scores)\n",
        "  return model"
      ],
      "execution_count": 0,
      "outputs": []
    },
    {
      "cell_type": "code",
      "metadata": {
        "id": "KFO2R7eJaXGd",
        "colab_type": "code",
        "outputId": "fb2e9897-3f21-4459-c393-7f9ce1a8a671",
        "colab": {
          "base_uri": "https://localhost:8080/",
          "height": 384
        }
      },
      "source": [
        "# run the experiment\n",
        "model = run_experiment()\n"
      ],
      "execution_count": 0,
      "outputs": [
        {
          "output_type": "stream",
          "text": [
            "WARNING: Logging before flag parsing goes to stderr.\n",
            "W0807 19:37:17.325997 139737227839360 deprecation_wrapper.py:119] From /usr/local/lib/python3.6/dist-packages/keras/backend/tensorflow_backend.py:74: The name tf.get_default_graph is deprecated. Please use tf.compat.v1.get_default_graph instead.\n",
            "\n",
            "W0807 19:37:17.365006 139737227839360 deprecation_wrapper.py:119] From /usr/local/lib/python3.6/dist-packages/keras/backend/tensorflow_backend.py:517: The name tf.placeholder is deprecated. Please use tf.compat.v1.placeholder instead.\n",
            "\n",
            "W0807 19:37:17.372385 139737227839360 deprecation_wrapper.py:119] From /usr/local/lib/python3.6/dist-packages/keras/backend/tensorflow_backend.py:4138: The name tf.random_uniform is deprecated. Please use tf.random.uniform instead.\n",
            "\n"
          ],
          "name": "stderr"
        },
        {
          "output_type": "stream",
          "text": [
            "(50, 1, 80, 2)\n"
          ],
          "name": "stdout"
        },
        {
          "output_type": "stream",
          "text": [
            "W0807 19:37:18.406865 139737227839360 deprecation_wrapper.py:119] From /usr/local/lib/python3.6/dist-packages/keras/backend/tensorflow_backend.py:133: The name tf.placeholder_with_default is deprecated. Please use tf.compat.v1.placeholder_with_default instead.\n",
            "\n",
            "W0807 19:37:18.418760 139737227839360 deprecation.py:506] From /usr/local/lib/python3.6/dist-packages/keras/backend/tensorflow_backend.py:3445: calling dropout (from tensorflow.python.ops.nn_ops) with keep_prob is deprecated and will be removed in a future version.\n",
            "Instructions for updating:\n",
            "Please use `rate` instead of `keep_prob`. Rate should be set to `rate = 1 - keep_prob`.\n",
            "W0807 19:37:18.472294 139737227839360 deprecation_wrapper.py:119] From /usr/local/lib/python3.6/dist-packages/keras/optimizers.py:790: The name tf.train.Optimizer is deprecated. Please use tf.compat.v1.train.Optimizer instead.\n",
            "\n",
            "W0807 19:37:18.512003 139737227839360 deprecation_wrapper.py:119] From /usr/local/lib/python3.6/dist-packages/keras/backend/tensorflow_backend.py:3295: The name tf.log is deprecated. Please use tf.math.log instead.\n",
            "\n",
            "W0807 19:37:18.712174 139737227839360 deprecation.py:323] From /usr/local/lib/python3.6/dist-packages/tensorflow/python/ops/math_grad.py:1250: add_dispatch_support.<locals>.wrapper (from tensorflow.python.ops.array_ops) is deprecated and will be removed in a future version.\n",
            "Instructions for updating:\n",
            "Use tf.where in 2.0, which has the same broadcast rule as np.where\n"
          ],
          "name": "stderr"
        }
      ]
    },
    {
      "cell_type": "code",
      "metadata": {
        "id": "ivlsdAQZ_nf-",
        "colab_type": "code",
        "colab": {}
      },
      "source": [
        "  !ls && cd drive && ls"
      ],
      "execution_count": 0,
      "outputs": []
    },
    {
      "cell_type": "code",
      "metadata": {
        "id": "o6wPfQMO1e5z",
        "colab_type": "code",
        "colab": {}
      },
      "source": [
        "#from keras.models import model_from_json\n",
        "\n",
        "# Model reconstruction from JSON file\n",
        "#with open('drive/My Drive/model_HBS_V2_1_acc_95.87523946360153.json', 'r') as f:\n",
        "    #model = model_from_json(f.read())\n",
        "\n",
        "# Load weights into the new model\n",
        "#model.load_weights('drive/My Drive/weights_HBS_V2_1_acc_95.87523946360153.h5')"
      ],
      "execution_count": 0,
      "outputs": []
    },
    {
      "cell_type": "code",
      "metadata": {
        "id": "1LObyHZc-rt_",
        "colab_type": "code",
        "colab": {}
      },
      "source": [
        "audio_example = AUDIO[0, :]\n",
        "prediction = []\n",
        "counter = 0\n",
        "overlap = 500\n",
        "print(width)\n",
        "while True:\n",
        "  if counter+width > audio_example.shape[0]:\n",
        "    audio_example_piece = audio_example[counter:counter+width]\n",
        "    audio_example_piece = np.hstack((audio_example_piece, np.zeros((width - audio_example_piece.shape[0]))))\n",
        "    audio_example_piece = np.expand_dims(audio_example_piece, axis=1)\n",
        "    audio_example_piece = np.expand_dims(audio_example_piece, axis=2)  \n",
        "    audio_example_piece = np.concatenate((audio_example_piece, np.gradient(audio_example_piece, axis = 0)), axis=2)  \n",
        "    audio_example_piece = audio_example_piece.reshape((1, 20, 1, -1, 2))\n",
        "    prediction.append(model.predict(audio_example_piece))\n",
        "    break\n",
        "  else:\n",
        "    audio_example_piece = audio_example[counter:counter+width]\n",
        "    audio_example_piece = np.expand_dims(audio_example_piece, axis=1)\n",
        "    audio_example_piece = np.expand_dims(audio_example_piece, axis=2)  \n",
        "    audio_example_piece = np.concatenate((audio_example_piece, np.gradient(audio_example_piece, axis = 0)), axis=2)  \n",
        "    audio_example_piece = audio_example_piece.reshape((1, 20, 1, -1, 2))\n",
        "    prediction.append(model.predict(audio_example_piece))\n",
        "  \n",
        "  counter += overlap\n",
        "print()"
      ],
      "execution_count": 0,
      "outputs": []
    },
    {
      "cell_type": "code",
      "metadata": {
        "id": "Cyw2YW28OPh-",
        "colab_type": "code",
        "colab": {}
      },
      "source": [
        "print(prediction[0])"
      ],
      "execution_count": 0,
      "outputs": []
    },
    {
      "cell_type": "code",
      "metadata": {
        "id": "y07lfb7nElS6",
        "colab_type": "code",
        "colab": {}
      },
      "source": [
        "predicted_targ = np.zeros((audio_example.shape[0], 2))\n",
        "counter = 0\n",
        "\n",
        "for pred in prediction:\n",
        "  pred = pred[0]\n",
        "  if overlap == 4000:\n",
        "    if np.argmax(pred) == 0 and pred[np.argmax(pred)] > 0.90:\n",
        "      predicted_targ[counter:counter+width, 0] = np.ones((width))\n",
        "    if np.argmax(pred) == 1 and pred[np.argmax(pred)] > 0.96:\n",
        "      predicted_targ[counter:counter+width, 1] = np.ones((width))\n",
        "  else:\n",
        "    if np.argmax(pred) == 0 and pred[np.argmax(pred)] > 0.90:\n",
        "      predicted_targ[counter:counter+width, 0] = np.ones((predicted_targ[counter:counter+width, 0].shape[0]))\n",
        "    if np.argmax(pred) == 1 and pred[np.argmax(pred)] > 0.96:\n",
        "      predicted_targ[counter:counter+width, 1] = np.ones((predicted_targ[counter:counter+width, 1].shape[0]))\n",
        "  counter += overlap"
      ],
      "execution_count": 0,
      "outputs": []
    },
    {
      "cell_type": "code",
      "metadata": {
        "id": "QNdSBXAGMG-i",
        "colab_type": "code",
        "colab": {}
      },
      "source": [
        "for i in range(0, 1):\n",
        "  plt.figure(num=1, figsize=(50, 6), dpi=90, facecolor='w', edgecolor='k')\n",
        "  plt.plot(audio_example, 'b')\n",
        "  plt.plot(predicted_targ[:,0], 'k')\n",
        "  plt.plot(predicted_targ[:,1], 'c')\n",
        "  for k in range(0, len(target[i][0])):\n",
        "    if target[i][0][k] == 'S1':\n",
        "      plt.axvline(float(target[i][1][k]), color = 'k')\n",
        "    else:\n",
        "      plt.axvline(float(target[i][1][k]), color = 'c')\n",
        "    plt.text(float(target[i][1][k]),0,target[i][0][k],rotation=90, fontsize = 12, color='r')\n",
        "  plt.show()"
      ],
      "execution_count": 0,
      "outputs": []
    },
    {
      "cell_type": "code",
      "metadata": {
        "colab_type": "code",
        "id": "iRta5UIrrce9",
        "colab": {}
      },
      "source": [
        "for i in range(0, 1):\n",
        "  plt.figure(num=1, figsize=(50, 6), dpi=90, facecolor='w', edgecolor='k')\n",
        "  plt.plot(AUDIO[i, :], 'b')\n",
        "  plt.plot(TA)\n",
        "  for k in range(0, len(target[i][0])):\n",
        "    if target[i][0][k] == 'S1':\n",
        "      plt.axvline(float(target[i][1][k]), color = 'r')\n",
        "    else:\n",
        "      plt.axvline(float(target[i][1][k]), color = 'g')\n",
        "    plt.text(float(target[i][1][k]),0,target[i][0][k],rotation=90, fontsize = 12)\n",
        "  plt.show()"
      ],
      "execution_count": 0,
      "outputs": []
    },
    {
      "cell_type": "code",
      "metadata": {
        "id": "wSheVC10t-GE",
        "colab_type": "code",
        "colab": {}
      },
      "source": [
        "PRED = np.array(prediction)\n",
        "\n",
        "plt.plot(AUDIO[0,:], 'b')\n",
        "plt.plot(PRED[0,:], 'c')\n",
        "plt.plot(PRED[1,:], 'm')\n",
        "plt.show()"
      ],
      "execution_count": 0,
      "outputs": []
    }
  ]
}